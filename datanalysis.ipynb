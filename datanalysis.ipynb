{
 "cells": [
  {
   "metadata": {
    "ExecuteTime": {
     "end_time": "2024-12-28T17:53:09.957285Z",
     "start_time": "2024-12-28T17:53:09.763784Z"
    }
   },
   "cell_type": "code",
   "source": [
    "import os\n",
    "from utils import corr_mat"
   ],
   "id": "a1225fea3851ad75",
   "outputs": [],
   "execution_count": 1
  },
  {
   "metadata": {
    "ExecuteTime": {
     "end_time": "2024-12-28T17:53:10.070194Z",
     "start_time": "2024-12-28T17:53:10.066537Z"
    }
   },
   "cell_type": "code",
   "source": [
    "'''\n",
    "On crée un dict de dict dans ce format :\n",
    "\n",
    "{ index_name : {type : path} }\n",
    "exemple : \\\n",
    "    {'AIR.PA': {'trade': 'TRTH/raw/trade/AIR.PA', 'bbo': 'TRTH/raw/bbo/AIR.PA'},\n",
    " 'VIE.PA': {'trade': 'TRTH/raw/trade/VIE.PA', 'bbo': 'TRTH/raw/bbo/VIE.PA'}}\n",
    "'''\n",
    "\n",
    "\n",
    "parent_dir = 'TRTH/raw'\n",
    "index_to_files = {}\n",
    "# Iterate over directories\n",
    "for entry in os.listdir(parent_dir):\n",
    "    entry_path = os.path.join(parent_dir, entry)\n",
    "    if os.path.isdir(entry_path):\n",
    "        for entry2 in os.listdir(entry_path):\n",
    "            dir2 = os.path.join(entry_path, entry2)\n",
    "            if os.path.isdir(dir2):\n",
    "                idx = dir2.split('/')[-1]\n",
    "                type = dir2.split('/')[-2]\n",
    "                if idx in index_to_files:\n",
    "                    index_to_files[idx][type] = dir2\n",
    "                else:\n",
    "                    index_to_files[idx] = {type : dir2}"
   ],
   "id": "63323d3b8120323",
   "outputs": [],
   "execution_count": 2
  },
  {
   "metadata": {
    "ExecuteTime": {
     "end_time": "2024-12-28T17:53:10.435252Z",
     "start_time": "2024-12-28T17:53:10.430429Z"
    }
   },
   "cell_type": "code",
   "source": "index_to_files",
   "id": "d2c6bb96c9a3484e",
   "outputs": [
    {
     "data": {
      "text/plain": [
       "{'AIR.PA': {'trade': 'TRTH/raw/trade/AIR.PA', 'bbo': 'TRTH/raw/bbo/AIR.PA'},\n",
       " 'VIE.PA': {'trade': 'TRTH/raw/trade/VIE.PA', 'bbo': 'TRTH/raw/bbo/VIE.PA'}}"
      ]
     },
     "execution_count": 3,
     "metadata": {},
     "output_type": "execute_result"
    }
   ],
   "execution_count": 3
  },
  {
   "metadata": {
    "ExecuteTime": {
     "end_time": "2024-12-28T17:53:11.070364Z",
     "start_time": "2024-12-28T17:53:10.935664Z"
    }
   },
   "cell_type": "code",
   "source": [
    "# On met en parametre, le index to file, le start date, le end date et le time interval\n",
    "\n",
    "start_date = '2005-06-30 00:00:00'\n",
    "end_date = '2005-06-30 23:00:00'\n",
    "time_interval = '4H'\n",
    "corr_mat(index_to_files,start_date, end_date,time_interval)\n",
    "\n"
   ],
   "id": "4791780b72258541",
   "outputs": [
    {
     "name": "stderr",
     "output_type": "stream",
     "text": [
      "/Users/adamzinebi/PycharmProjects/FinBigDataClustering/utils.py:95: SettingWithCopyWarning: \n",
      "A value is trying to be set on a copy of a slice from a DataFrame.\n",
      "Try using .loc[row_indexer,col_indexer] = value instead\n",
      "\n",
      "See the caveats in the documentation: https://pandas.pydata.org/pandas-docs/stable/user_guide/indexing.html#returning-a-view-versus-a-copy\n",
      "  df1['normal_date'] = pd.to_datetime(df1['normal_date'])\n",
      "/Users/adamzinebi/PycharmProjects/FinBigDataClustering/utils.py:96: SettingWithCopyWarning: \n",
      "A value is trying to be set on a copy of a slice from a DataFrame.\n",
      "Try using .loc[row_indexer,col_indexer] = value instead\n",
      "\n",
      "See the caveats in the documentation: https://pandas.pydata.org/pandas-docs/stable/user_guide/indexing.html#returning-a-view-versus-a-copy\n",
      "  df2['normal_date'] = pd.to_datetime(df2['normal_date'])\n",
      "/Users/adamzinebi/PycharmProjects/FinBigDataClustering/utils.py:109: FutureWarning: DataFrame.fillna with 'method' is deprecated and will raise in a future version. Use obj.ffill() or obj.bfill() instead.\n",
      "  df_merged[['bid-price', 'bid-volume', 'ask-price', 'ask-volume', 'trade-price','trade-volume']] = df_merged[['bid-price', 'bid-volume', 'ask-price', 'ask-volume', 'trade-price','trade-volume']].fillna(method='ffill')\n",
      "/Users/adamzinebi/PycharmProjects/FinBigDataClustering/utils.py:61: FutureWarning: 'H' is deprecated and will be removed in a future version, please use 'h' instead.\n",
      "  df_resampled = df.resample(time_interval).agg({\n",
      "/Users/adamzinebi/PycharmProjects/FinBigDataClustering/utils.py:67: FutureWarning: 'H' is deprecated and will be removed in a future version, please use 'h' instead.\n",
      "  full_index = pd.date_range(start=start_date, end=end_date, freq=time_interval)\n",
      "/Users/adamzinebi/PycharmProjects/FinBigDataClustering/utils.py:71: FutureWarning: The default fill_method='pad' in Series.pct_change is deprecated and will be removed in a future version. Either fill in any non-leading NA values prior to calling pct_change or specify 'fill_method=None' to not fill NA values.\n",
      "  df_resampled['ΔPrice'] = df_resampled['trade-price'].pct_change().replace([np.inf, -np.inf], np.nan).fillna(0)\n",
      "/Users/adamzinebi/PycharmProjects/FinBigDataClustering/utils.py:72: FutureWarning: The default fill_method='pad' in Series.pct_change is deprecated and will be removed in a future version. Either fill in any non-leading NA values prior to calling pct_change or specify 'fill_method=None' to not fill NA values.\n",
      "  df_resampled['ΔVolume'] = df_resampled['trade-volume'].pct_change().replace([np.inf, -np.inf], np.nan).fillna(0)\n",
      "/Users/adamzinebi/PycharmProjects/FinBigDataClustering/utils.py:73: FutureWarning: The default fill_method='pad' in Series.pct_change is deprecated and will be removed in a future version. Either fill in any non-leading NA values prior to calling pct_change or specify 'fill_method=None' to not fill NA values.\n",
      "  df_resampled['ΔSpread'] = df_resampled['spread'].pct_change().replace([np.inf, -np.inf], np.nan).fillna(0)\n",
      "/Users/adamzinebi/PycharmProjects/FinBigDataClustering/utils.py:74: FutureWarning: The default fill_method='pad' in Series.pct_change is deprecated and will be removed in a future version. Either fill in any non-leading NA values prior to calling pct_change or specify 'fill_method=None' to not fill NA values.\n",
      "  df_resampled['ΔVolImb'] = df_resampled['volume_imbalance'].pct_change().replace([np.inf, -np.inf], np.nan).fillna(0)\n",
      "/Users/adamzinebi/PycharmProjects/FinBigDataClustering/utils.py:95: SettingWithCopyWarning: \n",
      "A value is trying to be set on a copy of a slice from a DataFrame.\n",
      "Try using .loc[row_indexer,col_indexer] = value instead\n",
      "\n",
      "See the caveats in the documentation: https://pandas.pydata.org/pandas-docs/stable/user_guide/indexing.html#returning-a-view-versus-a-copy\n",
      "  df1['normal_date'] = pd.to_datetime(df1['normal_date'])\n",
      "/Users/adamzinebi/PycharmProjects/FinBigDataClustering/utils.py:96: SettingWithCopyWarning: \n",
      "A value is trying to be set on a copy of a slice from a DataFrame.\n",
      "Try using .loc[row_indexer,col_indexer] = value instead\n",
      "\n",
      "See the caveats in the documentation: https://pandas.pydata.org/pandas-docs/stable/user_guide/indexing.html#returning-a-view-versus-a-copy\n",
      "  df2['normal_date'] = pd.to_datetime(df2['normal_date'])\n",
      "/Users/adamzinebi/PycharmProjects/FinBigDataClustering/utils.py:109: FutureWarning: DataFrame.fillna with 'method' is deprecated and will raise in a future version. Use obj.ffill() or obj.bfill() instead.\n",
      "  df_merged[['bid-price', 'bid-volume', 'ask-price', 'ask-volume', 'trade-price','trade-volume']] = df_merged[['bid-price', 'bid-volume', 'ask-price', 'ask-volume', 'trade-price','trade-volume']].fillna(method='ffill')\n",
      "/Users/adamzinebi/PycharmProjects/FinBigDataClustering/utils.py:61: FutureWarning: 'H' is deprecated and will be removed in a future version, please use 'h' instead.\n",
      "  df_resampled = df.resample(time_interval).agg({\n",
      "/Users/adamzinebi/PycharmProjects/FinBigDataClustering/utils.py:67: FutureWarning: 'H' is deprecated and will be removed in a future version, please use 'h' instead.\n",
      "  full_index = pd.date_range(start=start_date, end=end_date, freq=time_interval)\n",
      "/Users/adamzinebi/PycharmProjects/FinBigDataClustering/utils.py:71: FutureWarning: The default fill_method='pad' in Series.pct_change is deprecated and will be removed in a future version. Either fill in any non-leading NA values prior to calling pct_change or specify 'fill_method=None' to not fill NA values.\n",
      "  df_resampled['ΔPrice'] = df_resampled['trade-price'].pct_change().replace([np.inf, -np.inf], np.nan).fillna(0)\n",
      "/Users/adamzinebi/PycharmProjects/FinBigDataClustering/utils.py:72: FutureWarning: The default fill_method='pad' in Series.pct_change is deprecated and will be removed in a future version. Either fill in any non-leading NA values prior to calling pct_change or specify 'fill_method=None' to not fill NA values.\n",
      "  df_resampled['ΔVolume'] = df_resampled['trade-volume'].pct_change().replace([np.inf, -np.inf], np.nan).fillna(0)\n",
      "/Users/adamzinebi/PycharmProjects/FinBigDataClustering/utils.py:73: FutureWarning: The default fill_method='pad' in Series.pct_change is deprecated and will be removed in a future version. Either fill in any non-leading NA values prior to calling pct_change or specify 'fill_method=None' to not fill NA values.\n",
      "  df_resampled['ΔSpread'] = df_resampled['spread'].pct_change().replace([np.inf, -np.inf], np.nan).fillna(0)\n",
      "/Users/adamzinebi/PycharmProjects/FinBigDataClustering/utils.py:74: FutureWarning: The default fill_method='pad' in Series.pct_change is deprecated and will be removed in a future version. Either fill in any non-leading NA values prior to calling pct_change or specify 'fill_method=None' to not fill NA values.\n",
      "  df_resampled['ΔVolImb'] = df_resampled['volume_imbalance'].pct_change().replace([np.inf, -np.inf], np.nan).fillna(0)\n"
     ]
    },
    {
     "data": {
      "text/plain": [
       "                     2005-06-30 00:00:00  2005-06-30 04:00:00  \\\n",
       "2005-06-30 00:00:00                  NaN                  NaN   \n",
       "2005-06-30 04:00:00                  NaN                  NaN   \n",
       "2005-06-30 08:00:00                  NaN                  NaN   \n",
       "2005-06-30 12:00:00                  NaN                  NaN   \n",
       "2005-06-30 16:00:00                  NaN                  NaN   \n",
       "2005-06-30 20:00:00                  NaN                  NaN   \n",
       "\n",
       "                     2005-06-30 08:00:00  2005-06-30 12:00:00  \\\n",
       "2005-06-30 00:00:00                  NaN                  NaN   \n",
       "2005-06-30 04:00:00                  NaN                  NaN   \n",
       "2005-06-30 08:00:00             1.000000             0.281796   \n",
       "2005-06-30 12:00:00             0.281796             1.000000   \n",
       "2005-06-30 16:00:00                  NaN                  NaN   \n",
       "2005-06-30 20:00:00                  NaN                  NaN   \n",
       "\n",
       "                     2005-06-30 16:00:00  2005-06-30 20:00:00  \n",
       "2005-06-30 00:00:00                  NaN                  NaN  \n",
       "2005-06-30 04:00:00                  NaN                  NaN  \n",
       "2005-06-30 08:00:00                  NaN                  NaN  \n",
       "2005-06-30 12:00:00                  NaN                  NaN  \n",
       "2005-06-30 16:00:00                  NaN                  NaN  \n",
       "2005-06-30 20:00:00                  NaN                  NaN  "
      ],
      "text/html": [
       "<div>\n",
       "<style scoped>\n",
       "    .dataframe tbody tr th:only-of-type {\n",
       "        vertical-align: middle;\n",
       "    }\n",
       "\n",
       "    .dataframe tbody tr th {\n",
       "        vertical-align: top;\n",
       "    }\n",
       "\n",
       "    .dataframe thead th {\n",
       "        text-align: right;\n",
       "    }\n",
       "</style>\n",
       "<table border=\"1\" class=\"dataframe\">\n",
       "  <thead>\n",
       "    <tr style=\"text-align: right;\">\n",
       "      <th></th>\n",
       "      <th>2005-06-30 00:00:00</th>\n",
       "      <th>2005-06-30 04:00:00</th>\n",
       "      <th>2005-06-30 08:00:00</th>\n",
       "      <th>2005-06-30 12:00:00</th>\n",
       "      <th>2005-06-30 16:00:00</th>\n",
       "      <th>2005-06-30 20:00:00</th>\n",
       "    </tr>\n",
       "  </thead>\n",
       "  <tbody>\n",
       "    <tr>\n",
       "      <th>2005-06-30 00:00:00</th>\n",
       "      <td>NaN</td>\n",
       "      <td>NaN</td>\n",
       "      <td>NaN</td>\n",
       "      <td>NaN</td>\n",
       "      <td>NaN</td>\n",
       "      <td>NaN</td>\n",
       "    </tr>\n",
       "    <tr>\n",
       "      <th>2005-06-30 04:00:00</th>\n",
       "      <td>NaN</td>\n",
       "      <td>NaN</td>\n",
       "      <td>NaN</td>\n",
       "      <td>NaN</td>\n",
       "      <td>NaN</td>\n",
       "      <td>NaN</td>\n",
       "    </tr>\n",
       "    <tr>\n",
       "      <th>2005-06-30 08:00:00</th>\n",
       "      <td>NaN</td>\n",
       "      <td>NaN</td>\n",
       "      <td>1.000000</td>\n",
       "      <td>0.281796</td>\n",
       "      <td>NaN</td>\n",
       "      <td>NaN</td>\n",
       "    </tr>\n",
       "    <tr>\n",
       "      <th>2005-06-30 12:00:00</th>\n",
       "      <td>NaN</td>\n",
       "      <td>NaN</td>\n",
       "      <td>0.281796</td>\n",
       "      <td>1.000000</td>\n",
       "      <td>NaN</td>\n",
       "      <td>NaN</td>\n",
       "    </tr>\n",
       "    <tr>\n",
       "      <th>2005-06-30 16:00:00</th>\n",
       "      <td>NaN</td>\n",
       "      <td>NaN</td>\n",
       "      <td>NaN</td>\n",
       "      <td>NaN</td>\n",
       "      <td>NaN</td>\n",
       "      <td>NaN</td>\n",
       "    </tr>\n",
       "    <tr>\n",
       "      <th>2005-06-30 20:00:00</th>\n",
       "      <td>NaN</td>\n",
       "      <td>NaN</td>\n",
       "      <td>NaN</td>\n",
       "      <td>NaN</td>\n",
       "      <td>NaN</td>\n",
       "      <td>NaN</td>\n",
       "    </tr>\n",
       "  </tbody>\n",
       "</table>\n",
       "</div>"
      ]
     },
     "execution_count": 4,
     "metadata": {},
     "output_type": "execute_result"
    }
   ],
   "execution_count": 4
  },
  {
   "metadata": {},
   "cell_type": "code",
   "outputs": [],
   "execution_count": null,
   "source": "",
   "id": "5ab4c817514a031d"
  }
 ],
 "metadata": {
  "kernelspec": {
   "display_name": "Python 3",
   "language": "python",
   "name": "python3"
  },
  "language_info": {
   "codemirror_mode": {
    "name": "ipython",
    "version": 2
   },
   "file_extension": ".py",
   "mimetype": "text/x-python",
   "name": "python",
   "nbconvert_exporter": "python",
   "pygments_lexer": "ipython2",
   "version": "2.7.6"
  }
 },
 "nbformat": 4,
 "nbformat_minor": 5
}
