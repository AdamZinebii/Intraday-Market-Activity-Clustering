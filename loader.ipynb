{
 "cells": [
  {
   "metadata": {},
   "cell_type": "code",
   "source": [
    "%load_ext autoreload\n",
    "%autoreload 2\n"
   ],
   "id": "2db94af80e6a415b",
   "outputs": [],
   "execution_count": null
  },
  {
   "cell_type": "code",
   "id": "initial_id",
   "metadata": {
    "collapsed": true
   },
   "source": [
    "\n",
    "import os\n",
    "import tarfile\n",
    "\n",
    "import pandas as pd\n",
    "\n",
    "'''\n",
    "On crée un dict de dict dans ce format :\n",
    "\n",
    "{ index_name : {type : path} }\n",
    "exemple : \\\n",
    "    {'AIR.PA': {'trade': 'TRTH/raw/trade/AIR.PA', 'bbo': 'TRTH/raw/bbo/AIR.PA'},\n",
    " 'VIE.PA': {'trade': 'TRTH/raw/trade/VIE.PA', 'bbo': 'TRTH/raw/bbo/VIE.PA'}}\n",
    " \n",
    "'''\n",
    "\n",
    "indexes = set()\n",
    "parent_dir = 'FR_2007'\n",
    "index_to_files = {}\n",
    "\n",
    "\n",
    "for entry in os.listdir(parent_dir):\n",
    "   print(f\"{parent_dir}/{entry}\")\n",
    "   with tarfile.open(f'{parent_dir}/{entry}', 'r') as tar:\n",
    "       for member in tar.getmembers(): \n",
    "           day_data = (member.name)\n",
    "           index = day_data.split('/')[7]\n",
    "           file = '/'.join(day_data.split('/')[:7]) + '/'\n",
    "           type = day_data.split('/')[6]\n",
    "           if (day_data.split('.')[-1]) == 'parquet' and type == 'trade': \n",
    "               #print(index,file,type,day_data)\n",
    "                df  = pd.read_parquet(tar.extractfile(day_data))\n",
    "                if ('/'.join(day_data.split('/')[-1].split('-')[:3])) == '2007/02/04':\n",
    "                    df2 = df"
   ],
   "outputs": [],
   "execution_count": null
  },
  {
   "metadata": {},
   "cell_type": "code",
   "source": [
    "import src.types as tp\n",
    "\n",
    "market = tp.Market('2007/02/05','2007/02/07','FR_2007')\n"
   ],
   "id": "6dd384e22045212",
   "outputs": [],
   "execution_count": null
  },
  {
   "metadata": {},
   "cell_type": "code",
   "source": "len(market.tick_data)",
   "id": "9d72f8fae8e2fc28",
   "outputs": [],
   "execution_count": null
  },
  {
   "metadata": {},
   "cell_type": "code",
   "source": [
    "from datetime import timedelta\n",
    "period_length = (timedelta(seconds=1200))\n",
    "periods = market.get_periods(period_length)"
   ],
   "id": "bb149e9db95902fe",
   "outputs": [],
   "execution_count": null
  },
  {
   "metadata": {
    "ExecuteTime": {
     "end_time": "2025-01-09T20:21:44.338751Z",
     "start_time": "2025-01-09T20:21:42.860028Z"
    }
   },
   "cell_type": "code",
   "source": [
    "import numpy as np\n",
    "market.compute_correlation_matrix_inter(3600)"
   ],
   "id": "50babf6daddbe9f9",
   "outputs": [
    {
     "data": {
      "text/plain": [
       "array([[ 1.        ,  0.07102317, -0.03663173, -0.00441145,  0.0660401 ,\n",
       "         0.11426155,  0.09721204],\n",
       "       [ 0.07102317,  1.        ,  0.08531087, -0.17514913,  0.28888317,\n",
       "         0.15434708,  0.1269523 ],\n",
       "       [-0.03663173,  0.08531087,  1.        , -0.01576843, -0.02266181,\n",
       "        -0.0065379 , -0.09730215],\n",
       "       [-0.00441145, -0.17514913, -0.01576843,  1.        ,  0.04099221,\n",
       "         0.11556813, -0.03034438],\n",
       "       [ 0.0660401 ,  0.28888317, -0.02266181,  0.04099221,  1.        ,\n",
       "         0.07463338, -0.15575771],\n",
       "       [ 0.11426155,  0.15434708, -0.0065379 ,  0.11556813,  0.07463338,\n",
       "         1.        ,  0.11937581],\n",
       "       [ 0.09721204,  0.1269523 , -0.09730215, -0.03034438, -0.15575771,\n",
       "         0.11937581,  1.        ]])"
      ]
     },
     "execution_count": 10,
     "metadata": {},
     "output_type": "execute_result"
    }
   ],
   "execution_count": 10
  },
  {
   "metadata": {
    "ExecuteTime": {
     "end_time": "2025-01-09T20:21:51.446998Z",
     "start_time": "2025-01-09T20:21:50.717716Z"
    }
   },
   "cell_type": "code",
   "source": "market.compute_correlation_matrix(3600)",
   "id": "397d934bb157c58b",
   "outputs": [
    {
     "name": "stderr",
     "output_type": "stream",
     "text": [
      "/Users/adamzinebi/PycharmProjects/FinBigDataClustering/src/types.py:109: RuntimeWarning: divide by zero encountered in divide\n",
      "  x = np.diff(x) / x[:-1]\n",
      "/Users/adamzinebi/PycharmProjects/FinBigDataClustering/src/types.py:109: RuntimeWarning: invalid value encountered in divide\n",
      "  x = np.diff(x) / x[:-1]\n",
      "/Users/adamzinebi/PycharmProjects/FinBigDataClustering/.venv/lib/python3.9/site-packages/numpy/_core/_methods.py:127: RuntimeWarning: invalid value encountered in reduce\n",
      "  ret = umr_sum(arr, axis, dtype, out, keepdims, where=where)\n"
     ]
    },
    {
     "data": {
      "text/plain": [
       "array([[1.        , 0.866309  , 0.7772552 , 0.820507  , 0.62988096,\n",
       "        0.23472567, 0.82530218, 0.88853916],\n",
       "       [0.866309  , 1.        , 0.75305947, 0.85496898, 0.67137131,\n",
       "        0.27364209, 0.89312196, 0.8494154 ],\n",
       "       [0.7772552 , 0.75305947, 1.        , 0.82528291, 0.85066522,\n",
       "        0.34718889, 0.77720624, 0.68441321],\n",
       "       [0.820507  , 0.85496898, 0.82528291, 1.        , 0.70272521,\n",
       "        0.25348278, 0.91828399, 0.81219293],\n",
       "       [0.62988096, 0.67137131, 0.85066522, 0.70272521, 1.        ,\n",
       "        0.12993183, 0.61065771, 0.54859363],\n",
       "       [0.23472567, 0.27364209, 0.34718889, 0.25348278, 0.12993183,\n",
       "        1.        , 0.4263625 , 0.17264724],\n",
       "       [0.82530218, 0.89312196, 0.77720624, 0.91828399, 0.61065771,\n",
       "        0.4263625 , 1.        , 0.79477032],\n",
       "       [0.88853916, 0.8494154 , 0.68441321, 0.81219293, 0.54859363,\n",
       "        0.17264724, 0.79477032, 1.        ]])"
      ]
     },
     "execution_count": 11,
     "metadata": {},
     "output_type": "execute_result"
    }
   ],
   "execution_count": 11
  },
  {
   "metadata": {},
   "cell_type": "code",
   "source": "periods[2]",
   "id": "27123b1afe5e4028",
   "outputs": [],
   "execution_count": null
  },
  {
   "metadata": {},
   "cell_type": "code",
   "source": "(periods[0].per_stock_ticks)['AXAF.PA']",
   "id": "498dbbb1feaf3496",
   "outputs": [],
   "execution_count": null
  },
  {
   "metadata": {},
   "cell_type": "code",
   "source": [
    "pd.set_option(\"display.max_columns\", 50)\n",
    "pd.set_option(\"display.max_rows\", 700)"
   ],
   "id": "448c602e787b7c19",
   "outputs": [],
   "execution_count": null
  },
  {
   "metadata": {},
   "cell_type": "code",
   "source": "print(df2['trade-stringflag'].unique())",
   "id": "351ac1728e21288f",
   "outputs": [],
   "execution_count": null
  },
  {
   "metadata": {},
   "cell_type": "code",
   "source": [
    "from datetime import datetime, timedelta\n",
    "excel_start_date = datetime(1899, 12, 30)  # Excel incorrectly considers 1900 as a leap year\n",
    "\n",
    "df2['time'] = df2.xltime.apply(lambda x : excel_start_date + timedelta(days=float(x)))"
   ],
   "id": "1a671a4aec538b5d",
   "outputs": [],
   "execution_count": null
  },
  {
   "metadata": {},
   "cell_type": "code",
   "source": "df2",
   "id": "6d8fc65a1bc219bd",
   "outputs": [],
   "execution_count": null
  },
  {
   "metadata": {},
   "cell_type": "code",
   "source": "",
   "id": "576ffb36abe40bd0",
   "outputs": [],
   "execution_count": null
  }
 ],
 "metadata": {
  "kernelspec": {
   "display_name": "Python 3",
   "language": "python",
   "name": "python3"
  },
  "language_info": {
   "codemirror_mode": {
    "name": "ipython",
    "version": 2
   },
   "file_extension": ".py",
   "mimetype": "text/x-python",
   "name": "python",
   "nbconvert_exporter": "python",
   "pygments_lexer": "ipython2",
   "version": "2.7.6"
  }
 },
 "nbformat": 4,
 "nbformat_minor": 5
}
